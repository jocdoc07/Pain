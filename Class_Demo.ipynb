{
  "nbformat": 4,
  "nbformat_minor": 0,
  "metadata": {
    "colab": {
      "provenance": [],
      "authorship_tag": "ABX9TyNVgSYMuzLuhXRvJ0mtswFF",
      "include_colab_link": true
    },
    "kernelspec": {
      "name": "ir",
      "display_name": "R"
    },
    "language_info": {
      "name": "R"
    }
  },
  "cells": [
    {
      "cell_type": "markdown",
      "metadata": {
        "id": "view-in-github",
        "colab_type": "text"
      },
      "source": [
        "<a href=\"https://colab.research.google.com/github/jocdoc07/Pain/blob/main/Class_Demo.ipynb\" target=\"_parent\"><img src=\"https://colab.research.google.com/assets/colab-badge.svg\" alt=\"Open In Colab\"/></a>"
      ]
    },
    {
      "cell_type": "code",
      "source": [
        "write R code to read in my NHISadult23.csv"
      ],
      "metadata": {
        "colab": {
          "base_uri": "https://localhost:8080/",
          "height": 109
        },
        "id": "d12-jy-8LZyJ",
        "outputId": "037404db-ceac-40ba-f0c2-bab8b2dce3ee"
      },
      "execution_count": 1,
      "outputs": [
        {
          "output_type": "error",
          "ename": "ERROR",
          "evalue": "Error in parse(text = input): <text>:1:7: unexpected symbol\n1: write R\n          ^\n",
          "traceback": [
            "Error in parse(text = input): <text>:1:7: unexpected symbol\n1: write R\n          ^\nTraceback:\n"
          ]
        }
      ]
    },
    {
      "source": [
        "# Install the readr package if you haven't already\n",
        "if (!require(\"readr\")) install.packages(\"readr\")\n",
        "\n",
        "# Load the readr package\n",
        "library(readr)\n",
        "\n",
        "# Read the CSV file into a data frame\n",
        "nhis_data <- read_csv(\"NHISadult23.csv\")\n",
        "\n",
        "# Display the first few rows of the data frame\n",
        "head(nhis_data)\n",
        "\n",
        "dim(nhis_data)\n",
        "\n",
        "head(nhis_data)"
      ],
      "cell_type": "code",
      "metadata": {
        "colab": {
          "base_uri": "https://localhost:8080/",
          "height": 838
        },
        "id": "4P1girbrMWKr",
        "outputId": "51add122-2d68-4058-804c-7819e670ddef"
      },
      "execution_count": 4,
      "outputs": [
        {
          "output_type": "stream",
          "name": "stderr",
          "text": [
            "Warning message:\n",
            "“\u001b[1m\u001b[22mOne or more parsing issues, call `problems()` on your data frame for details,\n",
            "e.g.:\n",
            "  dat <- vroom(...)\n",
            "  problems(dat)”\n",
            "\u001b[1mRows: \u001b[22m\u001b[34m29522\u001b[39m \u001b[1mColumns: \u001b[22m\u001b[34m647\u001b[39m\n",
            "\u001b[36m──\u001b[39m \u001b[1mColumn specification\u001b[22m \u001b[36m────────────────────────────────────────────────────────\u001b[39m\n",
            "\u001b[1mDelimiter:\u001b[22m \",\"\n",
            "\u001b[31mchr\u001b[39m   (1): HHX\n",
            "\u001b[32mdbl\u001b[39m (623): URBRRL, RATCAT_A, INCTCFLG_A, IMPINCFLG_A, LANGSPECR_A, LANGSOC_A...\n",
            "\u001b[33mlgl\u001b[39m  (23): OGFLG_A, OPFLG_A, CHFLG_A, MAFLG_A, PRPLCOV2_C_A, PLEXCHOG_A, PAN...\n",
            "\n",
            "\u001b[36mℹ\u001b[39m Use `spec()` to retrieve the full column specification for this data.\n",
            "\u001b[36mℹ\u001b[39m Specify the column types or set `show_col_types = FALSE` to quiet this message.\n"
          ]
        },
        {
          "output_type": "display_data",
          "data": {
            "text/html": [
              "<table class=\"dataframe\">\n",
              "<caption>A tibble: 6 × 647</caption>\n",
              "<thead>\n",
              "\t<tr><th scope=col>URBRRL</th><th scope=col>RATCAT_A</th><th scope=col>INCTCFLG_A</th><th scope=col>IMPINCFLG_A</th><th scope=col>LANGSPECR_A</th><th scope=col>LANGSOC_A</th><th scope=col>LANGDOC_A</th><th scope=col>LANGMED_A</th><th scope=col>LANGHM_A</th><th scope=col>PPSU</th><th scope=col>⋯</th><th scope=col>PROXYREL_A</th><th scope=col>PROXY_A</th><th scope=col>AVAIL_A</th><th scope=col>HHSTAT_A</th><th scope=col>INTV_MON</th><th scope=col>RECTYPE</th><th scope=col>IMPNUM_A</th><th scope=col>WTFA_A</th><th scope=col>HHX</th><th scope=col>POVRATTC_A</th></tr>\n",
              "\t<tr><th scope=col>&lt;dbl&gt;</th><th scope=col>&lt;dbl&gt;</th><th scope=col>&lt;dbl&gt;</th><th scope=col>&lt;dbl&gt;</th><th scope=col>&lt;dbl&gt;</th><th scope=col>&lt;dbl&gt;</th><th scope=col>&lt;dbl&gt;</th><th scope=col>&lt;dbl&gt;</th><th scope=col>&lt;dbl&gt;</th><th scope=col>&lt;dbl&gt;</th><th scope=col>⋯</th><th scope=col>&lt;dbl&gt;</th><th scope=col>&lt;dbl&gt;</th><th scope=col>&lt;dbl&gt;</th><th scope=col>&lt;dbl&gt;</th><th scope=col>&lt;dbl&gt;</th><th scope=col>&lt;dbl&gt;</th><th scope=col>&lt;dbl&gt;</th><th scope=col>&lt;dbl&gt;</th><th scope=col>&lt;chr&gt;</th><th scope=col>&lt;dbl&gt;</th></tr>\n",
              "</thead>\n",
              "<tbody>\n",
              "\t<tr><td>3</td><td> 4</td><td>0</td><td>0</td><td>NA</td><td>NA</td><td>NA</td><td>NA</td><td>NA</td><td>2</td><td>⋯</td><td>NA</td><td>NA</td><td>1</td><td>1</td><td>1</td><td>10</td><td>1</td><td> 7371.139</td><td>H029691</td><td>1.01</td></tr>\n",
              "\t<tr><td>4</td><td> 8</td><td>0</td><td>0</td><td>NA</td><td>NA</td><td>NA</td><td>NA</td><td>NA</td><td>2</td><td>⋯</td><td>NA</td><td>NA</td><td>1</td><td>1</td><td>1</td><td>10</td><td>1</td><td> 3146.794</td><td>H028812</td><td>2.49</td></tr>\n",
              "\t<tr><td>4</td><td>14</td><td>0</td><td>0</td><td>NA</td><td>NA</td><td>NA</td><td>NA</td><td>NA</td><td>2</td><td>⋯</td><td>NA</td><td>NA</td><td>1</td><td>1</td><td>1</td><td>10</td><td>1</td><td>10807.558</td><td>H045277</td><td>6.73</td></tr>\n",
              "\t<tr><td>4</td><td>10</td><td>0</td><td>0</td><td>NA</td><td>NA</td><td>NA</td><td>NA</td><td>NA</td><td>2</td><td>⋯</td><td>NA</td><td>NA</td><td>1</td><td>1</td><td>1</td><td>10</td><td>1</td><td> 4661.643</td><td>H021192</td><td>3.43</td></tr>\n",
              "\t<tr><td>4</td><td> 5</td><td>0</td><td>0</td><td>NA</td><td>NA</td><td>NA</td><td>NA</td><td>NA</td><td>2</td><td>⋯</td><td>NA</td><td>NA</td><td>1</td><td>1</td><td>1</td><td>10</td><td>1</td><td>10929.554</td><td>H025576</td><td>1.27</td></tr>\n",
              "\t<tr><td>4</td><td>14</td><td>0</td><td>0</td><td>NA</td><td>NA</td><td>NA</td><td>NA</td><td>NA</td><td>2</td><td>⋯</td><td>NA</td><td>NA</td><td>1</td><td>1</td><td>1</td><td>10</td><td>1</td><td> 3613.145</td><td>H010713</td><td>9.18</td></tr>\n",
              "</tbody>\n",
              "</table>\n"
            ],
            "text/markdown": "\nA tibble: 6 × 647\n\n| URBRRL &lt;dbl&gt; | RATCAT_A &lt;dbl&gt; | INCTCFLG_A &lt;dbl&gt; | IMPINCFLG_A &lt;dbl&gt; | LANGSPECR_A &lt;dbl&gt; | LANGSOC_A &lt;dbl&gt; | LANGDOC_A &lt;dbl&gt; | LANGMED_A &lt;dbl&gt; | LANGHM_A &lt;dbl&gt; | PPSU &lt;dbl&gt; | ⋯ ⋯ | PROXYREL_A &lt;dbl&gt; | PROXY_A &lt;dbl&gt; | AVAIL_A &lt;dbl&gt; | HHSTAT_A &lt;dbl&gt; | INTV_MON &lt;dbl&gt; | RECTYPE &lt;dbl&gt; | IMPNUM_A &lt;dbl&gt; | WTFA_A &lt;dbl&gt; | HHX &lt;chr&gt; | POVRATTC_A &lt;dbl&gt; |\n|---|---|---|---|---|---|---|---|---|---|---|---|---|---|---|---|---|---|---|---|---|\n| 3 |  4 | 0 | 0 | NA | NA | NA | NA | NA | 2 | ⋯ | NA | NA | 1 | 1 | 1 | 10 | 1 |  7371.139 | H029691 | 1.01 |\n| 4 |  8 | 0 | 0 | NA | NA | NA | NA | NA | 2 | ⋯ | NA | NA | 1 | 1 | 1 | 10 | 1 |  3146.794 | H028812 | 2.49 |\n| 4 | 14 | 0 | 0 | NA | NA | NA | NA | NA | 2 | ⋯ | NA | NA | 1 | 1 | 1 | 10 | 1 | 10807.558 | H045277 | 6.73 |\n| 4 | 10 | 0 | 0 | NA | NA | NA | NA | NA | 2 | ⋯ | NA | NA | 1 | 1 | 1 | 10 | 1 |  4661.643 | H021192 | 3.43 |\n| 4 |  5 | 0 | 0 | NA | NA | NA | NA | NA | 2 | ⋯ | NA | NA | 1 | 1 | 1 | 10 | 1 | 10929.554 | H025576 | 1.27 |\n| 4 | 14 | 0 | 0 | NA | NA | NA | NA | NA | 2 | ⋯ | NA | NA | 1 | 1 | 1 | 10 | 1 |  3613.145 | H010713 | 9.18 |\n\n",
            "text/latex": "A tibble: 6 × 647\n\\begin{tabular}{lllllllllllllllllllll}\n URBRRL & RATCAT\\_A & INCTCFLG\\_A & IMPINCFLG\\_A & LANGSPECR\\_A & LANGSOC\\_A & LANGDOC\\_A & LANGMED\\_A & LANGHM\\_A & PPSU & ⋯ & PROXYREL\\_A & PROXY\\_A & AVAIL\\_A & HHSTAT\\_A & INTV\\_MON & RECTYPE & IMPNUM\\_A & WTFA\\_A & HHX & POVRATTC\\_A\\\\\n <dbl> & <dbl> & <dbl> & <dbl> & <dbl> & <dbl> & <dbl> & <dbl> & <dbl> & <dbl> & ⋯ & <dbl> & <dbl> & <dbl> & <dbl> & <dbl> & <dbl> & <dbl> & <dbl> & <chr> & <dbl>\\\\\n\\hline\n\t 3 &  4 & 0 & 0 & NA & NA & NA & NA & NA & 2 & ⋯ & NA & NA & 1 & 1 & 1 & 10 & 1 &  7371.139 & H029691 & 1.01\\\\\n\t 4 &  8 & 0 & 0 & NA & NA & NA & NA & NA & 2 & ⋯ & NA & NA & 1 & 1 & 1 & 10 & 1 &  3146.794 & H028812 & 2.49\\\\\n\t 4 & 14 & 0 & 0 & NA & NA & NA & NA & NA & 2 & ⋯ & NA & NA & 1 & 1 & 1 & 10 & 1 & 10807.558 & H045277 & 6.73\\\\\n\t 4 & 10 & 0 & 0 & NA & NA & NA & NA & NA & 2 & ⋯ & NA & NA & 1 & 1 & 1 & 10 & 1 &  4661.643 & H021192 & 3.43\\\\\n\t 4 &  5 & 0 & 0 & NA & NA & NA & NA & NA & 2 & ⋯ & NA & NA & 1 & 1 & 1 & 10 & 1 & 10929.554 & H025576 & 1.27\\\\\n\t 4 & 14 & 0 & 0 & NA & NA & NA & NA & NA & 2 & ⋯ & NA & NA & 1 & 1 & 1 & 10 & 1 &  3613.145 & H010713 & 9.18\\\\\n\\end{tabular}\n",
            "text/plain": [
              "  URBRRL RATCAT_A INCTCFLG_A IMPINCFLG_A LANGSPECR_A LANGSOC_A LANGDOC_A\n",
              "1 3       4       0          0           NA          NA        NA       \n",
              "2 4       8       0          0           NA          NA        NA       \n",
              "3 4      14       0          0           NA          NA        NA       \n",
              "4 4      10       0          0           NA          NA        NA       \n",
              "5 4       5       0          0           NA          NA        NA       \n",
              "6 4      14       0          0           NA          NA        NA       \n",
              "  LANGMED_A LANGHM_A PPSU ⋯ PROXYREL_A PROXY_A AVAIL_A HHSTAT_A INTV_MON\n",
              "1 NA        NA       2    ⋯ NA         NA      1       1        1       \n",
              "2 NA        NA       2    ⋯ NA         NA      1       1        1       \n",
              "3 NA        NA       2    ⋯ NA         NA      1       1        1       \n",
              "4 NA        NA       2    ⋯ NA         NA      1       1        1       \n",
              "5 NA        NA       2    ⋯ NA         NA      1       1        1       \n",
              "6 NA        NA       2    ⋯ NA         NA      1       1        1       \n",
              "  RECTYPE IMPNUM_A WTFA_A    HHX     POVRATTC_A\n",
              "1 10      1         7371.139 H029691 1.01      \n",
              "2 10      1         3146.794 H028812 2.49      \n",
              "3 10      1        10807.558 H045277 6.73      \n",
              "4 10      1         4661.643 H021192 3.43      \n",
              "5 10      1        10929.554 H025576 1.27      \n",
              "6 10      1         3613.145 H010713 9.18      "
            ]
          },
          "metadata": {}
        },
        {
          "output_type": "display_data",
          "data": {
            "text/html": [
              "<style>\n",
              ".list-inline {list-style: none; margin:0; padding: 0}\n",
              ".list-inline>li {display: inline-block}\n",
              ".list-inline>li:not(:last-child)::after {content: \"\\00b7\"; padding: 0 .5ex}\n",
              "</style>\n",
              "<ol class=list-inline><li>29522</li><li>647</li></ol>\n"
            ],
            "text/markdown": "1. 29522\n2. 647\n\n\n",
            "text/latex": "\\begin{enumerate*}\n\\item 29522\n\\item 647\n\\end{enumerate*}\n",
            "text/plain": [
              "[1] 29522   647"
            ]
          },
          "metadata": {}
        },
        {
          "output_type": "display_data",
          "data": {
            "text/html": [
              "<table class=\"dataframe\">\n",
              "<caption>A tibble: 6 × 647</caption>\n",
              "<thead>\n",
              "\t<tr><th scope=col>URBRRL</th><th scope=col>RATCAT_A</th><th scope=col>INCTCFLG_A</th><th scope=col>IMPINCFLG_A</th><th scope=col>LANGSPECR_A</th><th scope=col>LANGSOC_A</th><th scope=col>LANGDOC_A</th><th scope=col>LANGMED_A</th><th scope=col>LANGHM_A</th><th scope=col>PPSU</th><th scope=col>⋯</th><th scope=col>PROXYREL_A</th><th scope=col>PROXY_A</th><th scope=col>AVAIL_A</th><th scope=col>HHSTAT_A</th><th scope=col>INTV_MON</th><th scope=col>RECTYPE</th><th scope=col>IMPNUM_A</th><th scope=col>WTFA_A</th><th scope=col>HHX</th><th scope=col>POVRATTC_A</th></tr>\n",
              "\t<tr><th scope=col>&lt;dbl&gt;</th><th scope=col>&lt;dbl&gt;</th><th scope=col>&lt;dbl&gt;</th><th scope=col>&lt;dbl&gt;</th><th scope=col>&lt;dbl&gt;</th><th scope=col>&lt;dbl&gt;</th><th scope=col>&lt;dbl&gt;</th><th scope=col>&lt;dbl&gt;</th><th scope=col>&lt;dbl&gt;</th><th scope=col>&lt;dbl&gt;</th><th scope=col>⋯</th><th scope=col>&lt;dbl&gt;</th><th scope=col>&lt;dbl&gt;</th><th scope=col>&lt;dbl&gt;</th><th scope=col>&lt;dbl&gt;</th><th scope=col>&lt;dbl&gt;</th><th scope=col>&lt;dbl&gt;</th><th scope=col>&lt;dbl&gt;</th><th scope=col>&lt;dbl&gt;</th><th scope=col>&lt;chr&gt;</th><th scope=col>&lt;dbl&gt;</th></tr>\n",
              "</thead>\n",
              "<tbody>\n",
              "\t<tr><td>3</td><td> 4</td><td>0</td><td>0</td><td>NA</td><td>NA</td><td>NA</td><td>NA</td><td>NA</td><td>2</td><td>⋯</td><td>NA</td><td>NA</td><td>1</td><td>1</td><td>1</td><td>10</td><td>1</td><td> 7371.139</td><td>H029691</td><td>1.01</td></tr>\n",
              "\t<tr><td>4</td><td> 8</td><td>0</td><td>0</td><td>NA</td><td>NA</td><td>NA</td><td>NA</td><td>NA</td><td>2</td><td>⋯</td><td>NA</td><td>NA</td><td>1</td><td>1</td><td>1</td><td>10</td><td>1</td><td> 3146.794</td><td>H028812</td><td>2.49</td></tr>\n",
              "\t<tr><td>4</td><td>14</td><td>0</td><td>0</td><td>NA</td><td>NA</td><td>NA</td><td>NA</td><td>NA</td><td>2</td><td>⋯</td><td>NA</td><td>NA</td><td>1</td><td>1</td><td>1</td><td>10</td><td>1</td><td>10807.558</td><td>H045277</td><td>6.73</td></tr>\n",
              "\t<tr><td>4</td><td>10</td><td>0</td><td>0</td><td>NA</td><td>NA</td><td>NA</td><td>NA</td><td>NA</td><td>2</td><td>⋯</td><td>NA</td><td>NA</td><td>1</td><td>1</td><td>1</td><td>10</td><td>1</td><td> 4661.643</td><td>H021192</td><td>3.43</td></tr>\n",
              "\t<tr><td>4</td><td> 5</td><td>0</td><td>0</td><td>NA</td><td>NA</td><td>NA</td><td>NA</td><td>NA</td><td>2</td><td>⋯</td><td>NA</td><td>NA</td><td>1</td><td>1</td><td>1</td><td>10</td><td>1</td><td>10929.554</td><td>H025576</td><td>1.27</td></tr>\n",
              "\t<tr><td>4</td><td>14</td><td>0</td><td>0</td><td>NA</td><td>NA</td><td>NA</td><td>NA</td><td>NA</td><td>2</td><td>⋯</td><td>NA</td><td>NA</td><td>1</td><td>1</td><td>1</td><td>10</td><td>1</td><td> 3613.145</td><td>H010713</td><td>9.18</td></tr>\n",
              "</tbody>\n",
              "</table>\n"
            ],
            "text/markdown": "\nA tibble: 6 × 647\n\n| URBRRL &lt;dbl&gt; | RATCAT_A &lt;dbl&gt; | INCTCFLG_A &lt;dbl&gt; | IMPINCFLG_A &lt;dbl&gt; | LANGSPECR_A &lt;dbl&gt; | LANGSOC_A &lt;dbl&gt; | LANGDOC_A &lt;dbl&gt; | LANGMED_A &lt;dbl&gt; | LANGHM_A &lt;dbl&gt; | PPSU &lt;dbl&gt; | ⋯ ⋯ | PROXYREL_A &lt;dbl&gt; | PROXY_A &lt;dbl&gt; | AVAIL_A &lt;dbl&gt; | HHSTAT_A &lt;dbl&gt; | INTV_MON &lt;dbl&gt; | RECTYPE &lt;dbl&gt; | IMPNUM_A &lt;dbl&gt; | WTFA_A &lt;dbl&gt; | HHX &lt;chr&gt; | POVRATTC_A &lt;dbl&gt; |\n|---|---|---|---|---|---|---|---|---|---|---|---|---|---|---|---|---|---|---|---|---|\n| 3 |  4 | 0 | 0 | NA | NA | NA | NA | NA | 2 | ⋯ | NA | NA | 1 | 1 | 1 | 10 | 1 |  7371.139 | H029691 | 1.01 |\n| 4 |  8 | 0 | 0 | NA | NA | NA | NA | NA | 2 | ⋯ | NA | NA | 1 | 1 | 1 | 10 | 1 |  3146.794 | H028812 | 2.49 |\n| 4 | 14 | 0 | 0 | NA | NA | NA | NA | NA | 2 | ⋯ | NA | NA | 1 | 1 | 1 | 10 | 1 | 10807.558 | H045277 | 6.73 |\n| 4 | 10 | 0 | 0 | NA | NA | NA | NA | NA | 2 | ⋯ | NA | NA | 1 | 1 | 1 | 10 | 1 |  4661.643 | H021192 | 3.43 |\n| 4 |  5 | 0 | 0 | NA | NA | NA | NA | NA | 2 | ⋯ | NA | NA | 1 | 1 | 1 | 10 | 1 | 10929.554 | H025576 | 1.27 |\n| 4 | 14 | 0 | 0 | NA | NA | NA | NA | NA | 2 | ⋯ | NA | NA | 1 | 1 | 1 | 10 | 1 |  3613.145 | H010713 | 9.18 |\n\n",
            "text/latex": "A tibble: 6 × 647\n\\begin{tabular}{lllllllllllllllllllll}\n URBRRL & RATCAT\\_A & INCTCFLG\\_A & IMPINCFLG\\_A & LANGSPECR\\_A & LANGSOC\\_A & LANGDOC\\_A & LANGMED\\_A & LANGHM\\_A & PPSU & ⋯ & PROXYREL\\_A & PROXY\\_A & AVAIL\\_A & HHSTAT\\_A & INTV\\_MON & RECTYPE & IMPNUM\\_A & WTFA\\_A & HHX & POVRATTC\\_A\\\\\n <dbl> & <dbl> & <dbl> & <dbl> & <dbl> & <dbl> & <dbl> & <dbl> & <dbl> & <dbl> & ⋯ & <dbl> & <dbl> & <dbl> & <dbl> & <dbl> & <dbl> & <dbl> & <dbl> & <chr> & <dbl>\\\\\n\\hline\n\t 3 &  4 & 0 & 0 & NA & NA & NA & NA & NA & 2 & ⋯ & NA & NA & 1 & 1 & 1 & 10 & 1 &  7371.139 & H029691 & 1.01\\\\\n\t 4 &  8 & 0 & 0 & NA & NA & NA & NA & NA & 2 & ⋯ & NA & NA & 1 & 1 & 1 & 10 & 1 &  3146.794 & H028812 & 2.49\\\\\n\t 4 & 14 & 0 & 0 & NA & NA & NA & NA & NA & 2 & ⋯ & NA & NA & 1 & 1 & 1 & 10 & 1 & 10807.558 & H045277 & 6.73\\\\\n\t 4 & 10 & 0 & 0 & NA & NA & NA & NA & NA & 2 & ⋯ & NA & NA & 1 & 1 & 1 & 10 & 1 &  4661.643 & H021192 & 3.43\\\\\n\t 4 &  5 & 0 & 0 & NA & NA & NA & NA & NA & 2 & ⋯ & NA & NA & 1 & 1 & 1 & 10 & 1 & 10929.554 & H025576 & 1.27\\\\\n\t 4 & 14 & 0 & 0 & NA & NA & NA & NA & NA & 2 & ⋯ & NA & NA & 1 & 1 & 1 & 10 & 1 &  3613.145 & H010713 & 9.18\\\\\n\\end{tabular}\n",
            "text/plain": [
              "  URBRRL RATCAT_A INCTCFLG_A IMPINCFLG_A LANGSPECR_A LANGSOC_A LANGDOC_A\n",
              "1 3       4       0          0           NA          NA        NA       \n",
              "2 4       8       0          0           NA          NA        NA       \n",
              "3 4      14       0          0           NA          NA        NA       \n",
              "4 4      10       0          0           NA          NA        NA       \n",
              "5 4       5       0          0           NA          NA        NA       \n",
              "6 4      14       0          0           NA          NA        NA       \n",
              "  LANGMED_A LANGHM_A PPSU ⋯ PROXYREL_A PROXY_A AVAIL_A HHSTAT_A INTV_MON\n",
              "1 NA        NA       2    ⋯ NA         NA      1       1        1       \n",
              "2 NA        NA       2    ⋯ NA         NA      1       1        1       \n",
              "3 NA        NA       2    ⋯ NA         NA      1       1        1       \n",
              "4 NA        NA       2    ⋯ NA         NA      1       1        1       \n",
              "5 NA        NA       2    ⋯ NA         NA      1       1        1       \n",
              "6 NA        NA       2    ⋯ NA         NA      1       1        1       \n",
              "  RECTYPE IMPNUM_A WTFA_A    HHX     POVRATTC_A\n",
              "1 10      1         7371.139 H029691 1.01      \n",
              "2 10      1         3146.794 H028812 2.49      \n",
              "3 10      1        10807.558 H045277 6.73      \n",
              "4 10      1         4661.643 H021192 3.43      \n",
              "5 10      1        10929.554 H025576 1.27      \n",
              "6 10      1         3613.145 H010713 9.18      "
            ]
          },
          "metadata": {}
        }
      ]
    },
    {
      "cell_type": "markdown",
      "source": [
        "Create the summary table"
      ],
      "metadata": {
        "id": "7_lF-GFwNFfw"
      }
    },
    {
      "cell_type": "code",
      "source": [],
      "metadata": {
        "id": "u8dvSAtxNZta"
      },
      "execution_count": null,
      "outputs": []
    },
    {
      "source": [
        "# Install the gtsummary package if you haven't already\n",
        "if (!require(\"gtsummary\")) install.packages(\"gtsummary\")\n",
        "\n",
        "# Load the gtsummary package\n",
        "library(gtsummary)\n",
        "\n",
        "# Assuming nhis_data is your data frame\n",
        "nhis_data %>%\n",
        "  select(hhx, urbrrl) %>% # Select the columns you want in the table\n",
        "  tbl_summary() # Create the summary table"
      ],
      "cell_type": "code",
      "metadata": {
        "colab": {
          "base_uri": "https://localhost:8080/",
          "height": 1000
        },
        "id": "8rBEHWpyOaNa",
        "outputId": "cc50f973-0edb-4f3b-e3e2-a7e90acf5c80"
      },
      "execution_count": 8,
      "outputs": [
        {
          "output_type": "error",
          "ename": "ERROR",
          "evalue": "\u001b[1m\u001b[33mError\u001b[39m in `select()`:\u001b[22m\n\u001b[33m!\u001b[39m Can't select columns that don't exist.\n\u001b[31m✖\u001b[39m Column `hhx` doesn't exist.\n",
          "traceback": [
            "\u001b[1m\u001b[33mError\u001b[39m in `select()`:\u001b[22m\n\u001b[33m!\u001b[39m Can't select columns that don't exist.\n\u001b[31m✖\u001b[39m Column `hhx` doesn't exist.\nTraceback:\n",
            "1. tbl_summary(.)",
            "2. check_data_frame(data)",
            "3. check_class(x = x, cls = \"data.frame\", allow_empty = allow_empty, \n .     message = message, arg_name = arg_name, class = class, call = call, \n .     envir = envir)",
            "4. select(., hhx, urbrrl)",
            "5. select.data.frame(., hhx, urbrrl)",
            "6. tidyselect::eval_select(expr(c(...)), data = .data, error_call = error_call)",
            "7. eval_select_impl(data, names(data), as_quosure(expr, env), include = include, \n .     exclude = exclude, strict = strict, name_spec = name_spec, \n .     allow_rename = allow_rename, allow_empty = allow_empty, allow_predicates = allow_predicates, \n .     error_call = error_call, )",
            "8. with_subscript_errors(out <- vars_select_eval(vars, expr, strict = strict, \n .     data = x, name_spec = name_spec, uniquely_named = uniquely_named, \n .     allow_rename = allow_rename, allow_empty = allow_empty, allow_predicates = allow_predicates, \n .     type = type, error_call = error_call), type = type)",
            "9. withCallingHandlers(expr, vctrs_error_subscript = function(cnd) {\n .     cnd$subscript_action <- subscript_action(type)\n .     cnd$subscript_elt <- \"column\"\n .     cnd_signal(cnd)\n . })",
            "10. vars_select_eval(vars, expr, strict = strict, data = x, name_spec = name_spec, \n  .     uniquely_named = uniquely_named, allow_rename = allow_rename, \n  .     allow_empty = allow_empty, allow_predicates = allow_predicates, \n  .     type = type, error_call = error_call)",
            "11. walk_data_tree(expr, data_mask, context_mask)",
            "12. eval_c(expr, data_mask, context_mask)",
            "13. reduce_sels(node, data_mask, context_mask, init = init)",
            "14. walk_data_tree(new, data_mask, context_mask)",
            "15. as_indices_sel_impl(out, vars = vars, strict = strict, data = data, \n  .     allow_predicates = allow_predicates, call = error_call, arg = as_label(expr))",
            "16. as_indices_impl(x, vars, call = call, arg = arg, strict = strict)",
            "17. chr_as_locations(x, vars, call = call, arg = arg)",
            "18. vctrs::vec_as_location(x, n = length(vars), names = vars, call = call, \n  .     arg = arg)",
            "19. (function () \n  . stop_subscript_oob(i = i, subscript_type = subscript_type, names = names, \n  .     subscript_action = subscript_action, subscript_arg = subscript_arg, \n  .     call = call))()",
            "20. stop_subscript_oob(i = i, subscript_type = subscript_type, names = names, \n  .     subscript_action = subscript_action, subscript_arg = subscript_arg, \n  .     call = call)",
            "21. stop_subscript(class = \"vctrs_error_subscript_oob\", i = i, subscript_type = subscript_type, \n  .     ..., call = call)",
            "22. abort(class = c(class, \"vctrs_error_subscript\"), i = i, ..., \n  .     call = call)",
            "23. signal_abort(cnd, .file)",
            "24. signalCondition(cnd)",
            "25. (function (cnd) \n  . {\n  .     cnd$subscript_action <- subscript_action(type)\n  .     cnd$subscript_elt <- \"column\"\n  .     cnd_signal(cnd)\n  . })(structure(list(message = \"\", trace = structure(list(call = list(\n  .     IRkernel::main(), kernel$run(), handle_shell(), executor$execute(msg), \n  .     tryCatch(evaluate(request$content$code, envir = .GlobalEnv, \n  .         output_handler = oh, stop_on_error = 1L), interrupt = function(cond) {\n  .         log_debug(\"Interrupt during execution\")\n  .         interrupted <<- TRUE\n  .     }, error = .self$handle_error), tryCatchList(expr, classes, \n  .         parentenv, handlers), tryCatchOne(tryCatchList(expr, \n  .         names[-nh], parentenv, handlers[-nh]), names[nh], parentenv, \n  .         handlers[[nh]]), doTryCatch(return(expr), name, parentenv, \n  .         handler), tryCatchList(expr, names[-nh], parentenv, handlers[-nh]), \n  .     tryCatchOne(expr, names, parentenv, handlers[[1L]]), doTryCatch(return(expr), \n  .         name, parentenv, handler), evaluate(request$content$code, \n  .         envir = .GlobalEnv, output_handler = oh, stop_on_error = 1L), \n  .     withRestarts(with_handlers({\n  .         for (expr in tle$exprs) {\n  .             ev <- withVisible(eval(expr, envir))\n  .             watcher$capture_plot_and_output()\n  .             watcher$print_value(ev$value, ev$visible, envir)\n  .         }\n  .         TRUE\n  .     }, handlers), eval_continue = function() TRUE, eval_stop = function() FALSE), \n  .     withRestartList(expr, restarts), withOneRestart(withRestartList(expr, \n  .         restarts[-nr]), restarts[[nr]]), doWithOneRestart(return(expr), \n  .         restart), withRestartList(expr, restarts[-nr]), withOneRestart(expr, \n  .         restarts[[1L]]), doWithOneRestart(return(expr), restart), \n  .     with_handlers({\n  .         for (expr in tle$exprs) {\n  .             ev <- withVisible(eval(expr, envir))\n  .             watcher$capture_plot_and_output()\n  .             watcher$print_value(ev$value, ev$visible, envir)\n  .         }\n  .         TRUE\n  .     }, handlers), eval(call), eval(call), withCallingHandlers(code, \n  .         message = `<fn>`, warning = `<fn>`, error = `<fn>`), \n  .     withVisible(eval(expr, envir)), eval(expr, envir), eval(expr, \n  .         envir), nhis_data %>% select(hhx, urbrrl) %>% tbl_summary(), \n  .     tbl_summary(.), check_data_frame(data), check_class(x = x, \n  .         cls = \"data.frame\", allow_empty = allow_empty, message = message, \n  .         arg_name = arg_name, class = class, call = call, envir = envir), \n  .     select(., hhx, urbrrl), select.data.frame(., hhx, urbrrl), \n  .     tidyselect::eval_select(expr(c(...)), data = .data, error_call = error_call), \n  .     eval_select_impl(data, names(data), as_quosure(expr, env), \n  .         include = include, exclude = exclude, strict = strict, \n  .         name_spec = name_spec, allow_rename = allow_rename, allow_empty = allow_empty, \n  .         allow_predicates = allow_predicates, error_call = error_call, \n  .         ), with_subscript_errors(out <- vars_select_eval(vars, \n  .         expr, strict = strict, data = x, name_spec = name_spec, \n  .         uniquely_named = uniquely_named, allow_rename = allow_rename, \n  .         allow_empty = allow_empty, allow_predicates = allow_predicates, \n  .         type = type, error_call = error_call), type = type), \n  .     withCallingHandlers(expr, vctrs_error_subscript = function(cnd) {\n  .         cnd$subscript_action <- subscript_action(type)\n  .         cnd$subscript_elt <- \"column\"\n  .         cnd_signal(cnd)\n  .     }), vars_select_eval(vars, expr, strict = strict, data = x, \n  .         name_spec = name_spec, uniquely_named = uniquely_named, \n  .         allow_rename = allow_rename, allow_empty = allow_empty, \n  .         allow_predicates = allow_predicates, type = type, error_call = error_call), \n  .     walk_data_tree(expr, data_mask, context_mask), eval_c(expr, \n  .         data_mask, context_mask), reduce_sels(node, data_mask, \n  .         context_mask, init = init), walk_data_tree(new, data_mask, \n  .         context_mask), as_indices_sel_impl(out, vars = vars, \n  .         strict = strict, data = data, allow_predicates = allow_predicates, \n  .         call = error_call, arg = as_label(expr)), as_indices_impl(x, \n  .         vars, call = call, arg = arg, strict = strict), chr_as_locations(x, \n  .         vars, call = call, arg = arg), vctrs::vec_as_location(x, \n  .         n = length(vars), names = vars, call = call, arg = arg), \n  .     `<fn>`(), stop_subscript_oob(i = i, subscript_type = subscript_type, \n  .         names = names, subscript_action = subscript_action, subscript_arg = subscript_arg, \n  .         call = call), stop_subscript(class = \"vctrs_error_subscript_oob\", \n  .         i = i, subscript_type = subscript_type, ..., call = call), \n  .     abort(class = c(class, \"vctrs_error_subscript\"), i = i, ..., \n  .         call = call)), parent = c(0L, 1L, 2L, 3L, 4L, 5L, 6L, \n  . 7L, 6L, 9L, 10L, 4L, 12L, 13L, 14L, 15L, 14L, 17L, 18L, 12L, \n  . 20L, 21L, 20L, 12L, 12L, 25L, 0L, 0L, 28L, 29L, 0L, 0L, 32L, \n  . 33L, 34L, 35L, 34L, 37L, 38L, 39L, 40L, 41L, 42L, 43L, 44L, 0L, \n  . 46L, 47L, 48L), visible = c(TRUE, TRUE, TRUE, TRUE, TRUE, TRUE, \n  . TRUE, TRUE, TRUE, TRUE, TRUE, TRUE, TRUE, TRUE, TRUE, TRUE, TRUE, \n  . TRUE, TRUE, TRUE, TRUE, TRUE, TRUE, TRUE, TRUE, TRUE, TRUE, TRUE, \n  . TRUE, TRUE, TRUE, TRUE, FALSE, FALSE, FALSE, FALSE, FALSE, FALSE, \n  . FALSE, FALSE, FALSE, FALSE, FALSE, FALSE, FALSE, FALSE, FALSE, \n  . FALSE, FALSE), namespace = c(\"IRkernel\", NA, \"IRkernel\", NA, \n  . \"base\", \"base\", \"base\", \"base\", \"base\", \"base\", \"base\", \"evaluate\", \n  . \"base\", \"base\", \"base\", \"base\", \"base\", \"base\", \"base\", \"evaluate\", \n  . \"base\", \"base\", \"base\", \"base\", \"base\", \"base\", NA, \"gtsummary\", \n  . \"gtsummary\", \"gtsummary\", \"dplyr\", \"dplyr\", \"tidyselect\", \"tidyselect\", \n  . \"tidyselect\", \"base\", \"tidyselect\", \"tidyselect\", \"tidyselect\", \n  . \"tidyselect\", \"tidyselect\", \"tidyselect\", \"tidyselect\", \"tidyselect\", \n  . \"vctrs\", \"vctrs\", \"vctrs\", \"vctrs\", \"rlang\"), scope = c(\"::\", \n  . NA, \"local\", NA, \"::\", \"local\", \"local\", \"local\", \"local\", \"local\", \n  . \"local\", \"::\", \"::\", \"local\", \"local\", \"local\", \"local\", \"local\", \n  . \"local\", \":::\", \"::\", \"::\", \"::\", \"::\", \"::\", \"::\", NA, \"::\", \n  . \":::\", \":::\", \"::\", \":::\", \"::\", \":::\", \":::\", \"::\", \":::\", \":::\", \n  . \":::\", \":::\", \":::\", \":::\", \":::\", \":::\", \"::\", \"local\", \":::\", \n  . \":::\", \"::\"), error_frame = c(FALSE, FALSE, FALSE, FALSE, FALSE, \n  . FALSE, FALSE, FALSE, FALSE, FALSE, FALSE, FALSE, FALSE, FALSE, \n  . FALSE, FALSE, FALSE, FALSE, FALSE, FALSE, FALSE, FALSE, FALSE, \n  . FALSE, FALSE, FALSE, FALSE, FALSE, FALSE, FALSE, FALSE, TRUE, \n  . FALSE, FALSE, FALSE, FALSE, FALSE, FALSE, FALSE, FALSE, FALSE, \n  . FALSE, FALSE, FALSE, FALSE, FALSE, FALSE, FALSE, FALSE)), row.names = c(NA, \n  . -49L), version = 2L, class = c(\"rlang_trace\", \"rlib_trace\", \"tbl\", \n  . \"data.frame\")), parent = NULL, i = \"hhx\", subscript_type = \"character\", \n  .     names = c(\"URBRRL\", \"RATCAT_A\", \"INCTCFLG_A\", \"IMPINCFLG_A\", \n  .     \"LANGSPECR_A\", \"LANGSOC_A\", \"LANGDOC_A\", \"LANGMED_A\", \"LANGHM_A\", \n  .     \"PPSU\", \"PSTRAT\", \"HISPALLP_A\", \"RACEALLP_A\", \"DISAB3_A\", \n  .     \"SCHDYMSSTC_A\", \"AFNOW\", \"REPWRKDYTC_A\", \"YRSINUS_A\", \"CITZNSTP_A\", \n  .     \"PRTNREDUCP_A\", \"SPOUSEDUCP_A\", \"LEGMSTAT_A\", \"MARSTAT_A\", \n  .     \"SASPPRACE_A\", \"SASPPHISP_A\", \"PRTNRAGETC_A\", \"SPOUSAGETC_A\", \n  .     \"PRTNRWKFT_A\", \"PRTNRWRK_A\", \"SPOUSWKFT_A\", \"SPOUSWRK_A\", \n  .     \"SPOUSESEX_A\", \"PRTNRSEX_A\", \"INJWRKDYTC_A\", \"NUMINJTC_A\", \n  .     \"SHINGYEARP_A\", \"HHRESPSA_FLG\", \"PCNTADWFP1_A\", \"PCNTADWKP1_A\", \n  .     \"FDSCAT4_A\", \"FDSCAT3_A\", \"EPINUMSEZP_A\", \"EMPDYSMSS3_A\", \n  .     \"EMPLSTWOR1_A\", \"EMPWRKFT1_A\", \"EMPWRKLSW1_A\", \"EMPWKHRS3_A\", \n  .     \"EMDOCCUPN2_A\", \"EMDOCCUPN1_A\", \"EMDINDSTN2_A\", \"EMDINDSTN1_A\", \n  .     \"DIBAGETC_A\", \"DIFYRSTC1_A\", \"SMKECIGST_A\", \"SMKCIGST_A\", \n  .     \"BMICAT_A\", \"WEIGHTLBTC_A\", \"HEIGHTTC_A\", \"URGNT12MTC_A\", \n  .     \"EMERG12MTC_A\", \"DIBA1CNMT_A\", \"PCNT18UPTC\", \"PCNTLT18TC\", \n  .     \"PHQ2SCREEN_A\", \"GAD2SCREEN_A\", \"COVER65_A\", \"COVER_A\", \"EXCHANGE_A\", \n  .     \"NOTCOV_A\", \"MILSPC1R_A\", \"OGFLG_A\", \"OPFLG_A\", \"CHFLG_A\", \n  .     \"MAFLG_A\", \"PLNWRKR2_A\", \"PLNWRKR1_A\", \"RSNHIMISS_A\", \"RSNHIJOB_A\", \n  .     \"MCADVR_A\", \"PRFLG_A\", \"PLEXCHPR1_A\", \"PRPREM1_A\", \"PXCHNG1_A\", \n  .     \"HICOSTR2_A\", \"HICOSTR1_A\", \"OTHGOV_A\", \"OTHPUB_A\", \"IHS_A\", \n  .     \"MILITARY_A\", \"CHIP_A\", \"MEDICAID_A\", \"MEDICARE_A\", \"PRIVATE_A\", \n  .     \"PRPLCOV1_C_A\", \"PRPLCOV2_C_A\", \"PLEXCHOG_A\", \"PLEXCHOP_A\", \n  .     \"EXCHPR2_A\", \"EXCHPR1_A\", \"EDUCP_A\", \"MAXEDUCP_A\", \"PARSTAT_A\", \n  .     \"SAPARENTSC_A\", \"MLTFAMFLG_A\", \"OVER65FLG_A\", \"PCNTADLT_A\", \n  .     \"PCNTKIDS_A\", \"NUMCAN_A\", \"COLRCAGETC_A\", \"HDNCKAGETC_A\", \n  .     \"OTHERAGETC_A\", \"UTERUAGETC_A\", \"THYROAGETC_A\", \"THROAAGETC_A\", \n  .     \"STOMAAGETC_A\", \"SKNDKAGETC_A\", \"SKNNMAGETC_A\", \"SKNMAGETC_A\", \n  .     \"RECTUAGETC_A\", \"PROSTAGETC_A\", \"PANCRAGETC_A\", \"OVARYAGETC_A\", \n  .     \"MOUTHAGETC_A\", \"MELANAGETC_A\", \"LYMPHAGETC_A\", \"LUNGAGETC_A\", \n  .     \"LIVERAGETC_A\", \"LEUKEAGETC_A\", \"LARYNAGETC_A\", \"GALLBAGETC_A\", \n  .     \"ESOPHAGETC_A\", \"COLONAGETC_A\", \"CERVIAGETC_A\", \"BREASAGETC_A\", \n  .     \"BRAINAGETC_A\", \"BONEAGETC_A\", \"BLOODAGETC_A\", \"BLADDAGETC_A\", \n  .     \"OTHERCANP_A\", \"COLRCCAN_A\", \"HDNCKCAN_A\", \"UTERUCAN_A\", \n  .     \"THYROCAN_A\", \"THROACAN_A\", \"STOMACAN_A\", \"SKNDKCAN_A\", \"SKNNMCAN_A\", \n  .     \"SKNMCAN_A\", \"RECTUCAN_A\", \"PROSTCAN_A\", \"PANCRCAN_A\", \"OVARYCAN_A\", \n  .     \"MOUTHCAN_A\", \"MELANCAN_A\", \"LYMPHCAN_A\", \"LUNGCAN_A\", \"LIVERCAN_A\", \n  .     \"LEUKECAN_A\", \"LARYNCAN_A\", \"GALLBCAN_A\", \"ESOPHCAN_A\", \"COLONCAN_A\", \n  .     \"CERVICAN_A\", \"BREASCAN_A\", \"BRAINCAN_A\", \"BONECAN_A\", \"BLOODCAN_A\", \n  .     \"BLADDCAN_A\", \"HISDETP_A\", \"HISP_A\", \"REGION\", \"INTV_QRT\", \n  .     \"SRVY_YR\", \"SEX_A\", \"AGEP_A\", \"AGE65\", \"ASTATNEW\", \"MENTHOLC_A\", \n  .     \"CEVOTELC_A\", \"CEMMETNG_A\", \"TRANSPOR_A\", \"HOUSECOST_A\", \n  .     \"HOUGVASST_A\", \"HOUTENURE_A\", \"HOUYRSLIV_A\", \"FDSNEDAYS_A\", \n  .     \"FDSNOTEAT_A\", \"FDSWEIGHT_A\", \"FDSHUNGRY_A\", \"FDSLESS_A\", \n  .     \"FDSSKIPDYS_A\", \"FDSSKIP_A\", \"FDSBALANCE_A\", \"FDSLAST_A\", \n  .     \"FDSRUNOUT_A\", \"FLUNCH12M1_A\", \"FWIC12M_A\", \"FSNAP30D_A\", \n  .     \"FSNAP12M_A\", \"INCOTHR_A\", \"INCRETIRE_A\", \"INCWELF_A\", \"SSISSDIDSB_A\", \n  .     \"SSISSDIBTH_A\", \"INCSSISSDI_A\", \"INCSSRR_A\", \"INCINTER_A\", \n  .     \"INCWRKO_A\", \"CEVOLUN2_A\", \"CEVOLUN1_A\", \"EMDWRKCAT1_A\", \n  .     \"EMDSUPER_A\", \"EMPHEALINS_A\", \"EMPSICKLV_A\", \"EMPWHENWRK_A\", \n  .     \"EMPWHYNOT_A\", \"EMPNOWRK_A\", \"EMPLASTWK_A\", \"SCHCURENR_A\", \n  .     \"NATUSBORN_A\", \"VACAREEV_A\", \"VAHOSP_A\", \"VADISB_A\", \"COMBAT_A\", \n  .     \"AFVETTRN_A\", \"AFVET_A\", \"EVRMARRIED_A\", \"SPOUSEP_A\", \"SPOUSLIV_A\", \n  .     \"MARITAL_A\", \"ORIENT_A\", \"HRJBEXPTB_A\", \"HRJBEXP4HR_A\", \"HRJBEXP12M_A\", \n  .     \"HRVLDPROT_A\", \"HRVLOUD12M_A\", \"HRFIREPROT_A\", \"HRFIRE12M_A\", \n  .     \"HRFIRETOTR_A\", \"HRFIREEV_A\", \"HRJOBPROT_A\", \"HRLOUDJB12M_A\", \n  .     \"HRLOUDJBYR_A\", \"HRLOUDJOB_A\", \"HRTINMEDSP_A\", \"HRTINPROB_A\", \n  .     \"HRTINLNG_A\", \"HRTINNITUS_A\", \"BFALLTIMES_A\", \"BFALL12M_A\", \n  .     \"BALDHP_A\", \"BALDPROB_A\", \"BALDIZZ_A\", \"HRAIDAQR_A\", \"HRTESTLAST_A\", \n  .     \"HRTEST_A\", \"CBALHDNO_A\", \"CBALHDINJ_A\", \"EARINFECT3_A\", \n  .     \"EARINFECT_A\", \"HRWHISP_A\", \"AHEARST1_A\", \"VIMDRIVE_A\", \"VIMREAD_A\", \n  .     \"AVISSADV_A\", \"AVISDEV_A\", \"AVISREH_A\", \"AVISEXAM_A\", \"SMOKELSCUR_A\", \n  .     \"SMOKELSEV_A\", \"PIPECUR_A\", \"PIPEEV_A\", \"CIGAR30D_A\", \"CIGARCUR_A\", \n  .     \"CIGAREV_A\", \"ECIGNOW_A\", \"ECIGEV_A\", \"CIG30D_A\", \"SMK30D_A\", \n  .     \"CIGNOW_A\", \"SMKNOW_A\", \"SMKEV_A\", \"ARTHPH_A\", \"ARTHWRK_A\", \n  .     \"ARTHLMT_A\", \"JNTPN_A\", \"JNTSYMP_A\", \"TBIEVAL_A\", \"TBILEAGUE_A\", \n  .     \"TBISPORT_A\", \"TBIHLSBMC_A\", \"TBILCDCMG_A\", \"INJREDUCE_A\", \n  .     \"INJSTOPCHG_A\", \"INJFUTWRK_A\", \"INJSTITCH_A\", \"INJBONES_A\", \n  .     \"INJHOSP_A\", \"INJER_A\", \"INJSAWDOC_A\", \"INJCHORES_A\", \"INJMVTYPE5_A\", \n  .     \"INJMVTYPE4_A\", \"INJMVTYPE3_A\", \"INJMVTYPE2_A\", \"INJMVTYPE1_A\", \n  .     \"INJMOTOR_A\", \"INJFALLWRK_A\", \"INJFALLHOM_A\", \"INJFALL_A\", \n  .     \"INJSPORTS_A\", \"INJWORK_A\", \"INJHOME_A\", \"INJLIMIT_A\", \"ANYINJURY_A\", \n  .     \"REPWRKCAUS_A\", \"REPREDUCE_A\", \"REPSTOPCHG_A\", \"REPFUTWRK_A\", \n  .     \"REPSAWDOC_A\", \"REPLIMIT_A\", \"REPSTRAIN_A\", \"PAITOOTH3M_A\", \n  .     \"PAIAPG3M_A\", \"PAIHDFC3M_A\", \"PAILLMB3M_A\", \"PAIULMB3M_A\", \n  .     \"PAIBACK3M_A\", \"PAIAFFM3M_A\", \"PAIWKLM3M_A\", \"PAIAMNT_A\", \n  .     \"PAIFRQ3M_A\", \"VIGIL4_A\", \"VIGIL3_A\", \"VIGIL2_A\", \"VIGIL1_A\", \n  .     \"DISCRIM5_A\", \"DISCRIM4_A\", \"DISCRIM3_A\", \"DISCRIM2_A\", \"DISCRIM1_A\", \n  .     \"PHQ44_A\", \"PHQ43_A\", \"PHQ42_A\", \"PHQ41_A\", \"MHTHND_A\", \"MHTHDLY_A\", \n  .     \"MHTPYNOW_A\", \"MHTHRPY_A\", \"MHRX_A\", \"DEPLEVEL_A\", \"DEPMED_A\", \n  .     \"DEPFREQ_A\", \"ANXLEVEL_A\", \"ANXMED_A\", \"ANXFREQ_A\", \"HOMEHC12M_A\", \n  .     \"THERA12M_A\", \"EYEEX12M_A\", \"TRAVEL_A\", \"WRKHLTHFC_A\", \"WORKHEALTH_A\", \n  .     \"LIVEHEP_A\", \"SHTHEPB1_A\", \"TDAPPREG_A\", \"SHINGRIXFS1_A\", \n  .     \"SHINGRIXN3_A\", \"SHINGRIX3_A\", \"SHINGWHEN1_A\", \"SHTSHINGL1_A\", \n  .     \"SHTPNEUNB_A\", \"SHTPNUEV_A\", \"SHOTTYPE2_A\", \"CVDVAC1Y1_A\", \n  .     \"CVDVAC1M1_A\", \"SHTCVD19NM1_A\", \"SHTCVD191_A\", \"FLUPREG2_A\", \n  .     \"FLUPREG_A\", \"SHTFLUY_A\", \"SHTFLUM_A\", \"SHTFLU12M_A\", \"LIVEBIRTH_A\", \n  .     \"PREGFLUYR_A\", \"FHCANRISK_A\", \"FHOVCANNUM_A\", \"FHOVCANEV_A\", \n  .     \"FHBCAN50_A\", \"FHBCANNUM_A\", \"FHBCANEV_A\", \"FHCANEV_A\", \"GTGRISK_A\", \n  .     \"GTPOSS1_A\", \"MRIREA_A\", \"MRIWHEN_A\", \"MRIHAD_A\", \"MAMNOT1_A\", \n  .     \"MAMREASON_A\", \"MAMWHEN_A\", \"MAMEV_A\", \"HYSTEV2_A\", \"CERVICWHEN_A\", \n  .     \"CERVICEV1_A\", \"PSA5YR1_A\", \"PSAREASON_A\", \"PSAWHEN_A\", \"PSATEST_A\", \n  .     \"COLTEST6_A\", \"COLTEST5_A\", \"COLTEST4_A\", \"COLTEST3_A\", \"COLTEST2_A\", \n  .     \"COLTEST1_A\", \"COLPROB1_A\", \"CGUARDWHE1_A\", \"FITCOLG1_A\", \n  .     \"COLOGUARD1_A\", \"FITHWHEN1_A\", \"FITHEV1_A\", \"CTCOLWHEN1_A\", \n  .     \"CTCOLEV1_A\", \"SIGWHEN_A\", \"COLSIGWHEN_A\", \"COLREASON1_A\", \n  .     \"COLWHEN_A\", \"COLORECTYP_A\", \"COLORECTEV_A\", \"DIBA1CLAST_A\", \n  .     \"DIBLAST1_A\", \"CHOLLAST_A\", \"BPLAST_A\", \"RXDG12M_A\", \"RXDL12M_A\", \n  .     \"RXLS12M_A\", \"RXSK12M_A\", \"RX12M_A\", \"HITTEST_A\", \"HITCOMM_A\", \n  .     \"HITLOOK_A\", \"ACCSSHOM_A\", \"ACCSSINT_A\", \"VIRAPP12M_A\", \"MEDNG12M_A\", \n  .     \"MEDDL12M_A\", \"HOSPONGT_A\", \"USPLKIND_A\", \"USUALPL_A\", \"WELLVIS_A\", \n  .     \"WELLNESS_A\", \"LASTDR_A\", \"DENNG12M_A\", \"DENDL12M_A\", \"DENPREV_A\", \n  .     \"LCVDACT_A\", \"SYMPNOW1_A\", \"LONGCOVD1_A\", \"EVERCOVD_A\", \"PAYWORRY_A\", \n  .     \"PAYNOBLLNW_A\", \"PAYBLL12M_A\", \"HINOTMYR_A\", \"HINOTYR_A\", \n  .     \"RSNHIOTH_A\", \"RSNHIWAIT_A\", \"RSNHIMEET_A\", \"RSNHICONF_A\", \n  .     \"RSNHIELIG_A\", \"RSNHIWANT_A\", \"RSNHICOST_A\", \"HISTOPELIG_A\", \n  .     \"HISTOPCOST_A\", \"HISTOPAGE_A\", \"HISTOPMISS_A\", \"HISTOPJOB_A\", \n  .     \"HILASTMY_A\", \"HILAST_A\", \"MILSPC3_A\", \"MILSPC2_A\", \"MILSPC1_A\", \n  .     \"OGHDHP_A\", \"OGDEDUC_A\", \"OGPREM_A\", \"OGXCHNG_A\", \"OPHDHP_A\", \n  .     \"OPDEDUC_A\", \"OPPREM_A\", \"OPXCHNG_A\", \"CHHDHP_A\", \"CHDEDUC_A\", \n  .     \"CHPREM_A\", \"CHXCHNG_A\", \"PRVSCOV2_A\", \"PRVSCOV1_A\", \"PRDNCOV2_A\", \n  .     \"PRDNCOV1_A\", \"PRRXCOV2_A\", \"PRRXCOV1_A\", \"HSAHRA2_A\", \"HSAHRA1_A\", \n  .     \"PRHDHP2_A\", \"PRHDHP1_A\", \"PRDEDUC2_A\", \"PRDEDUC1_A\", \"PLN2PAY6_A\", \n  .     \"PLN2PAY5_A\", \"PLN2PAY4_A\", \"PLN2PAY3_A\", \"PLN2PAY2_A\", \"PLN2PAY1_A\", \n  .     \"PLN1PAY6_A\", \"PLN1PAY5_A\", \"PLN1PAY4_A\", \"PLN1PAY3_A\", \"PLN1PAY2_A\", \n  .     \"PLN1PAY1_A\", \"PLNEXCHG2_A\", \"PLNEXCHG1_A\", \"PRPOLH2_A\", \n  .     \"PRPOLH1_A\", \"PRPLCOV2_A\", \"PRPLCOV1_A\", \"POLHLD2_A\", \"POLHLD1_A\", \n  .     \"MAHDHP_A\", \"MADEDUC_A\", \"MAPREM_A\", \"MAXCHNG_A\", \"MCPARTD_A\", \n  .     \"MCVSCOV_A\", \"MCDNCOV_A\", \"MCHMO_A\", \"MCCHOICE_A\", \"MCPART_A\", \n  .     \"SINCOVRX_A\", \"SINCOVVS_A\", \"SINCOVDE_A\", \"MCAIDPRB_A\", \"MCAREPRB_A\", \n  .     \"HIKIND10_A\", \"HIKIND09_A\", \"HIKIND08_A\", \"HIKIND07_A\", \"HIKIND06_A\", \n  .     \"HIKIND05_A\", \"HIKIND04_A\", \"HIKIND03_A\", \"HIKIND02_A\", \"HIKIND01_A\", \n  .     \"HICOV_A\", \"DEVDONSET_A\", \"SOCWRKLIM_A\", \"SOCSCLPAR_A\", \"SOCERRNDS_A\", \n  .     \"UPPOBJCT_A\", \"UPPRAISE_A\", \"UPPSLFCR_A\", \"COGAMTDFF_A\", \n  .     \"COGFRQDFF_A\", \"COGTYPEDFF_A\", \"COGMEMDFF_A\", \"COMDIFF_A\", \n  .     \"EQSTEPS_A\", \"EQWLK13M_A\", \"EQWLK100_A\", \"NOEQSTEPS_A\", \"NOEQWLK13M_A\", \n  .     \"NOEQWLK100_A\", \"PERASST_A\", \"WCHAIR_A\", \"CANEWLKR_A\", \"STEPS_A\", \n  .     \"WLK13M_A\", \"WLK100_A\", \"EQUIP_A\", \"DIFF_A\", \"HEARINGDF_A\", \n  .     \"HEARAIDFR_A\", \"HEARAID_A\", \"VISIONDF_A\", \"WEARGLSS_A\", \"PREGNOW_A\", \n  .     \"VIMLSCA_A\", \"VIMCAEV_A\", \"VIMCSURG_A\", \"VIMLSMD_A\", \"VIMMDEV_A\", \n  .     \"VIMLSGL_A\", \"VIMGLEV_A\", \"VIMLSDR_A\", \"VIMDREV_A\", \"EPIDR_A\", \n  .     \"EPIMED_A\", \"EPIEV_A\", \"HLTHCOND_A\", \"MEDRXTRT_A\", \"CFSNOW_A\", \n  .     \"CFSEV_A\", \"PSOREV_A\", \"ULCCOLEV_A\", \"CROHNSEV_A\", \"HEPEV_A\", \n  .     \"DEPEV_A\", \"ANXEV_A\", \"DEMENEV_A\", \"ARTHEV_A\", \"COPDEV_A\", \n  .     \"DIBTYPE_A\", \"DIBINSSTYR_A\", \"DIBINSSTOP_A\", \"DIBINSTIME_A\", \n  .     \"DIBINS_A\", \"DIBPILL_A\", \"DIBEV_A\", \"GESDIB_A\", \"PREDIB_A\", \n  .     \"CANEV_A\", \"ASER12M_A\", \"ASAT12M_A\", \"ASTILL_A\", \"ASEV_A\", \n  .     \"ASPONOWN_A\", \"ASPMEDSTP_A\", \"ASPMEDNOWN_A\", \"ASPMEDEV_A\", \n  .     \"STREV_A\", \"MIEV_A\", \"ANGEV_A\", \"CHDEV_A\", \"CHLMED_A\", \"CHL12M_A\", \n  .     \"CHLEV_A\", \"HYPMED_A\", \"HYP12M_A\", \"HYPDIF_A\", \"HYPEV_A\", \n  .     \"LSATIS4_A\", \"PHSTAT_A\", \"PROXYREL_A\", \"PROXY_A\", \"AVAIL_A\", \n  .     \"HHSTAT_A\", \"INTV_MON\", \"RECTYPE\", \"IMPNUM_A\", \"WTFA_A\", \n  .     \"HHX\", \"POVRATTC_A\"), subscript_action = NULL, subscript_arg = \"hhx\", \n  .     rlang = list(inherit = TRUE), call = select(., hhx, urbrrl)), class = c(\"vctrs_error_subscript_oob\", \n  . \"vctrs_error_subscript\", \"rlang_error\", \"error\", \"condition\")))",
            "26. cnd_signal(cnd)",
            "27. signal_abort(cnd)",
            "28. signalCondition(cnd)"
          ]
        }
      ]
    },
    {
      "source": [
        "# Load the gtsummary package\n",
        "library(gtsummary)\n",
        "\n",
        "# Assuming nhis_data is your data frame\n",
        "nhis_data %>%\n",
        "  select(hhx, urbrrl) %>% # Select the columns you want in the table\n",
        "  tbl_summary() # Create the summary table"
      ],
      "cell_type": "code",
      "metadata": {
        "colab": {
          "base_uri": "https://localhost:8080/",
          "height": 1000
        },
        "id": "pDVVbbTHReKy",
        "outputId": "c1d97668-fc2e-47a9-8684-118406afaef4"
      },
      "execution_count": 9,
      "outputs": [
        {
          "output_type": "error",
          "ename": "ERROR",
          "evalue": "\u001b[1m\u001b[33mError\u001b[39m in `select()`:\u001b[22m\n\u001b[33m!\u001b[39m Can't select columns that don't exist.\n\u001b[31m✖\u001b[39m Column `hhx` doesn't exist.\n",
          "traceback": [
            "\u001b[1m\u001b[33mError\u001b[39m in `select()`:\u001b[22m\n\u001b[33m!\u001b[39m Can't select columns that don't exist.\n\u001b[31m✖\u001b[39m Column `hhx` doesn't exist.\nTraceback:\n",
            "1. tbl_summary(.)",
            "2. check_data_frame(data)",
            "3. check_class(x = x, cls = \"data.frame\", allow_empty = allow_empty, \n .     message = message, arg_name = arg_name, class = class, call = call, \n .     envir = envir)",
            "4. select(., hhx, urbrrl)",
            "5. select.data.frame(., hhx, urbrrl)",
            "6. tidyselect::eval_select(expr(c(...)), data = .data, error_call = error_call)",
            "7. eval_select_impl(data, names(data), as_quosure(expr, env), include = include, \n .     exclude = exclude, strict = strict, name_spec = name_spec, \n .     allow_rename = allow_rename, allow_empty = allow_empty, allow_predicates = allow_predicates, \n .     error_call = error_call, )",
            "8. with_subscript_errors(out <- vars_select_eval(vars, expr, strict = strict, \n .     data = x, name_spec = name_spec, uniquely_named = uniquely_named, \n .     allow_rename = allow_rename, allow_empty = allow_empty, allow_predicates = allow_predicates, \n .     type = type, error_call = error_call), type = type)",
            "9. withCallingHandlers(expr, vctrs_error_subscript = function(cnd) {\n .     cnd$subscript_action <- subscript_action(type)\n .     cnd$subscript_elt <- \"column\"\n .     cnd_signal(cnd)\n . })",
            "10. vars_select_eval(vars, expr, strict = strict, data = x, name_spec = name_spec, \n  .     uniquely_named = uniquely_named, allow_rename = allow_rename, \n  .     allow_empty = allow_empty, allow_predicates = allow_predicates, \n  .     type = type, error_call = error_call)",
            "11. walk_data_tree(expr, data_mask, context_mask)",
            "12. eval_c(expr, data_mask, context_mask)",
            "13. reduce_sels(node, data_mask, context_mask, init = init)",
            "14. walk_data_tree(new, data_mask, context_mask)",
            "15. as_indices_sel_impl(out, vars = vars, strict = strict, data = data, \n  .     allow_predicates = allow_predicates, call = error_call, arg = as_label(expr))",
            "16. as_indices_impl(x, vars, call = call, arg = arg, strict = strict)",
            "17. chr_as_locations(x, vars, call = call, arg = arg)",
            "18. vctrs::vec_as_location(x, n = length(vars), names = vars, call = call, \n  .     arg = arg)",
            "19. (function () \n  . stop_subscript_oob(i = i, subscript_type = subscript_type, names = names, \n  .     subscript_action = subscript_action, subscript_arg = subscript_arg, \n  .     call = call))()",
            "20. stop_subscript_oob(i = i, subscript_type = subscript_type, names = names, \n  .     subscript_action = subscript_action, subscript_arg = subscript_arg, \n  .     call = call)",
            "21. stop_subscript(class = \"vctrs_error_subscript_oob\", i = i, subscript_type = subscript_type, \n  .     ..., call = call)",
            "22. abort(class = c(class, \"vctrs_error_subscript\"), i = i, ..., \n  .     call = call)",
            "23. signal_abort(cnd, .file)",
            "24. signalCondition(cnd)",
            "25. (function (cnd) \n  . {\n  .     cnd$subscript_action <- subscript_action(type)\n  .     cnd$subscript_elt <- \"column\"\n  .     cnd_signal(cnd)\n  . })(structure(list(message = \"\", trace = structure(list(call = list(\n  .     IRkernel::main(), kernel$run(), handle_shell(), executor$execute(msg), \n  .     tryCatch(evaluate(request$content$code, envir = .GlobalEnv, \n  .         output_handler = oh, stop_on_error = 1L), interrupt = function(cond) {\n  .         log_debug(\"Interrupt during execution\")\n  .         interrupted <<- TRUE\n  .     }, error = .self$handle_error), tryCatchList(expr, classes, \n  .         parentenv, handlers), tryCatchOne(tryCatchList(expr, \n  .         names[-nh], parentenv, handlers[-nh]), names[nh], parentenv, \n  .         handlers[[nh]]), doTryCatch(return(expr), name, parentenv, \n  .         handler), tryCatchList(expr, names[-nh], parentenv, handlers[-nh]), \n  .     tryCatchOne(expr, names, parentenv, handlers[[1L]]), doTryCatch(return(expr), \n  .         name, parentenv, handler), evaluate(request$content$code, \n  .         envir = .GlobalEnv, output_handler = oh, stop_on_error = 1L), \n  .     withRestarts(with_handlers({\n  .         for (expr in tle$exprs) {\n  .             ev <- withVisible(eval(expr, envir))\n  .             watcher$capture_plot_and_output()\n  .             watcher$print_value(ev$value, ev$visible, envir)\n  .         }\n  .         TRUE\n  .     }, handlers), eval_continue = function() TRUE, eval_stop = function() FALSE), \n  .     withRestartList(expr, restarts), withOneRestart(withRestartList(expr, \n  .         restarts[-nr]), restarts[[nr]]), doWithOneRestart(return(expr), \n  .         restart), withRestartList(expr, restarts[-nr]), withOneRestart(expr, \n  .         restarts[[1L]]), doWithOneRestart(return(expr), restart), \n  .     with_handlers({\n  .         for (expr in tle$exprs) {\n  .             ev <- withVisible(eval(expr, envir))\n  .             watcher$capture_plot_and_output()\n  .             watcher$print_value(ev$value, ev$visible, envir)\n  .         }\n  .         TRUE\n  .     }, handlers), eval(call), eval(call), withCallingHandlers(code, \n  .         message = `<fn>`, warning = `<fn>`, error = `<fn>`), \n  .     withVisible(eval(expr, envir)), eval(expr, envir), eval(expr, \n  .         envir), nhis_data %>% select(hhx, urbrrl) %>% tbl_summary(), \n  .     tbl_summary(.), check_data_frame(data), check_class(x = x, \n  .         cls = \"data.frame\", allow_empty = allow_empty, message = message, \n  .         arg_name = arg_name, class = class, call = call, envir = envir), \n  .     select(., hhx, urbrrl), select.data.frame(., hhx, urbrrl), \n  .     tidyselect::eval_select(expr(c(...)), data = .data, error_call = error_call), \n  .     eval_select_impl(data, names(data), as_quosure(expr, env), \n  .         include = include, exclude = exclude, strict = strict, \n  .         name_spec = name_spec, allow_rename = allow_rename, allow_empty = allow_empty, \n  .         allow_predicates = allow_predicates, error_call = error_call, \n  .         ), with_subscript_errors(out <- vars_select_eval(vars, \n  .         expr, strict = strict, data = x, name_spec = name_spec, \n  .         uniquely_named = uniquely_named, allow_rename = allow_rename, \n  .         allow_empty = allow_empty, allow_predicates = allow_predicates, \n  .         type = type, error_call = error_call), type = type), \n  .     withCallingHandlers(expr, vctrs_error_subscript = function(cnd) {\n  .         cnd$subscript_action <- subscript_action(type)\n  .         cnd$subscript_elt <- \"column\"\n  .         cnd_signal(cnd)\n  .     }), vars_select_eval(vars, expr, strict = strict, data = x, \n  .         name_spec = name_spec, uniquely_named = uniquely_named, \n  .         allow_rename = allow_rename, allow_empty = allow_empty, \n  .         allow_predicates = allow_predicates, type = type, error_call = error_call), \n  .     walk_data_tree(expr, data_mask, context_mask), eval_c(expr, \n  .         data_mask, context_mask), reduce_sels(node, data_mask, \n  .         context_mask, init = init), walk_data_tree(new, data_mask, \n  .         context_mask), as_indices_sel_impl(out, vars = vars, \n  .         strict = strict, data = data, allow_predicates = allow_predicates, \n  .         call = error_call, arg = as_label(expr)), as_indices_impl(x, \n  .         vars, call = call, arg = arg, strict = strict), chr_as_locations(x, \n  .         vars, call = call, arg = arg), vctrs::vec_as_location(x, \n  .         n = length(vars), names = vars, call = call, arg = arg), \n  .     `<fn>`(), stop_subscript_oob(i = i, subscript_type = subscript_type, \n  .         names = names, subscript_action = subscript_action, subscript_arg = subscript_arg, \n  .         call = call), stop_subscript(class = \"vctrs_error_subscript_oob\", \n  .         i = i, subscript_type = subscript_type, ..., call = call), \n  .     abort(class = c(class, \"vctrs_error_subscript\"), i = i, ..., \n  .         call = call)), parent = c(0L, 1L, 2L, 3L, 4L, 5L, 6L, \n  . 7L, 6L, 9L, 10L, 4L, 12L, 13L, 14L, 15L, 14L, 17L, 18L, 12L, \n  . 20L, 21L, 20L, 12L, 12L, 25L, 0L, 0L, 28L, 29L, 0L, 0L, 32L, \n  . 33L, 34L, 35L, 34L, 37L, 38L, 39L, 40L, 41L, 42L, 43L, 44L, 0L, \n  . 46L, 47L, 48L), visible = c(TRUE, TRUE, TRUE, TRUE, TRUE, TRUE, \n  . TRUE, TRUE, TRUE, TRUE, TRUE, TRUE, TRUE, TRUE, TRUE, TRUE, TRUE, \n  . TRUE, TRUE, TRUE, TRUE, TRUE, TRUE, TRUE, TRUE, TRUE, TRUE, TRUE, \n  . TRUE, TRUE, TRUE, TRUE, FALSE, FALSE, FALSE, FALSE, FALSE, FALSE, \n  . FALSE, FALSE, FALSE, FALSE, FALSE, FALSE, FALSE, FALSE, FALSE, \n  . FALSE, FALSE), namespace = c(\"IRkernel\", NA, \"IRkernel\", NA, \n  . \"base\", \"base\", \"base\", \"base\", \"base\", \"base\", \"base\", \"evaluate\", \n  . \"base\", \"base\", \"base\", \"base\", \"base\", \"base\", \"base\", \"evaluate\", \n  . \"base\", \"base\", \"base\", \"base\", \"base\", \"base\", NA, \"gtsummary\", \n  . \"gtsummary\", \"gtsummary\", \"dplyr\", \"dplyr\", \"tidyselect\", \"tidyselect\", \n  . \"tidyselect\", \"base\", \"tidyselect\", \"tidyselect\", \"tidyselect\", \n  . \"tidyselect\", \"tidyselect\", \"tidyselect\", \"tidyselect\", \"tidyselect\", \n  . \"vctrs\", \"vctrs\", \"vctrs\", \"vctrs\", \"rlang\"), scope = c(\"::\", \n  . NA, \"local\", NA, \"::\", \"local\", \"local\", \"local\", \"local\", \"local\", \n  . \"local\", \"::\", \"::\", \"local\", \"local\", \"local\", \"local\", \"local\", \n  . \"local\", \":::\", \"::\", \"::\", \"::\", \"::\", \"::\", \"::\", NA, \"::\", \n  . \":::\", \":::\", \"::\", \":::\", \"::\", \":::\", \":::\", \"::\", \":::\", \":::\", \n  . \":::\", \":::\", \":::\", \":::\", \":::\", \":::\", \"::\", \"local\", \":::\", \n  . \":::\", \"::\"), error_frame = c(FALSE, FALSE, FALSE, FALSE, FALSE, \n  . FALSE, FALSE, FALSE, FALSE, FALSE, FALSE, FALSE, FALSE, FALSE, \n  . FALSE, FALSE, FALSE, FALSE, FALSE, FALSE, FALSE, FALSE, FALSE, \n  . FALSE, FALSE, FALSE, FALSE, FALSE, FALSE, FALSE, FALSE, TRUE, \n  . FALSE, FALSE, FALSE, FALSE, FALSE, FALSE, FALSE, FALSE, FALSE, \n  . FALSE, FALSE, FALSE, FALSE, FALSE, FALSE, FALSE, FALSE)), row.names = c(NA, \n  . -49L), version = 2L, class = c(\"rlang_trace\", \"rlib_trace\", \"tbl\", \n  . \"data.frame\")), parent = NULL, i = \"hhx\", subscript_type = \"character\", \n  .     names = c(\"URBRRL\", \"RATCAT_A\", \"INCTCFLG_A\", \"IMPINCFLG_A\", \n  .     \"LANGSPECR_A\", \"LANGSOC_A\", \"LANGDOC_A\", \"LANGMED_A\", \"LANGHM_A\", \n  .     \"PPSU\", \"PSTRAT\", \"HISPALLP_A\", \"RACEALLP_A\", \"DISAB3_A\", \n  .     \"SCHDYMSSTC_A\", \"AFNOW\", \"REPWRKDYTC_A\", \"YRSINUS_A\", \"CITZNSTP_A\", \n  .     \"PRTNREDUCP_A\", \"SPOUSEDUCP_A\", \"LEGMSTAT_A\", \"MARSTAT_A\", \n  .     \"SASPPRACE_A\", \"SASPPHISP_A\", \"PRTNRAGETC_A\", \"SPOUSAGETC_A\", \n  .     \"PRTNRWKFT_A\", \"PRTNRWRK_A\", \"SPOUSWKFT_A\", \"SPOUSWRK_A\", \n  .     \"SPOUSESEX_A\", \"PRTNRSEX_A\", \"INJWRKDYTC_A\", \"NUMINJTC_A\", \n  .     \"SHINGYEARP_A\", \"HHRESPSA_FLG\", \"PCNTADWFP1_A\", \"PCNTADWKP1_A\", \n  .     \"FDSCAT4_A\", \"FDSCAT3_A\", \"EPINUMSEZP_A\", \"EMPDYSMSS3_A\", \n  .     \"EMPLSTWOR1_A\", \"EMPWRKFT1_A\", \"EMPWRKLSW1_A\", \"EMPWKHRS3_A\", \n  .     \"EMDOCCUPN2_A\", \"EMDOCCUPN1_A\", \"EMDINDSTN2_A\", \"EMDINDSTN1_A\", \n  .     \"DIBAGETC_A\", \"DIFYRSTC1_A\", \"SMKECIGST_A\", \"SMKCIGST_A\", \n  .     \"BMICAT_A\", \"WEIGHTLBTC_A\", \"HEIGHTTC_A\", \"URGNT12MTC_A\", \n  .     \"EMERG12MTC_A\", \"DIBA1CNMT_A\", \"PCNT18UPTC\", \"PCNTLT18TC\", \n  .     \"PHQ2SCREEN_A\", \"GAD2SCREEN_A\", \"COVER65_A\", \"COVER_A\", \"EXCHANGE_A\", \n  .     \"NOTCOV_A\", \"MILSPC1R_A\", \"OGFLG_A\", \"OPFLG_A\", \"CHFLG_A\", \n  .     \"MAFLG_A\", \"PLNWRKR2_A\", \"PLNWRKR1_A\", \"RSNHIMISS_A\", \"RSNHIJOB_A\", \n  .     \"MCADVR_A\", \"PRFLG_A\", \"PLEXCHPR1_A\", \"PRPREM1_A\", \"PXCHNG1_A\", \n  .     \"HICOSTR2_A\", \"HICOSTR1_A\", \"OTHGOV_A\", \"OTHPUB_A\", \"IHS_A\", \n  .     \"MILITARY_A\", \"CHIP_A\", \"MEDICAID_A\", \"MEDICARE_A\", \"PRIVATE_A\", \n  .     \"PRPLCOV1_C_A\", \"PRPLCOV2_C_A\", \"PLEXCHOG_A\", \"PLEXCHOP_A\", \n  .     \"EXCHPR2_A\", \"EXCHPR1_A\", \"EDUCP_A\", \"MAXEDUCP_A\", \"PARSTAT_A\", \n  .     \"SAPARENTSC_A\", \"MLTFAMFLG_A\", \"OVER65FLG_A\", \"PCNTADLT_A\", \n  .     \"PCNTKIDS_A\", \"NUMCAN_A\", \"COLRCAGETC_A\", \"HDNCKAGETC_A\", \n  .     \"OTHERAGETC_A\", \"UTERUAGETC_A\", \"THYROAGETC_A\", \"THROAAGETC_A\", \n  .     \"STOMAAGETC_A\", \"SKNDKAGETC_A\", \"SKNNMAGETC_A\", \"SKNMAGETC_A\", \n  .     \"RECTUAGETC_A\", \"PROSTAGETC_A\", \"PANCRAGETC_A\", \"OVARYAGETC_A\", \n  .     \"MOUTHAGETC_A\", \"MELANAGETC_A\", \"LYMPHAGETC_A\", \"LUNGAGETC_A\", \n  .     \"LIVERAGETC_A\", \"LEUKEAGETC_A\", \"LARYNAGETC_A\", \"GALLBAGETC_A\", \n  .     \"ESOPHAGETC_A\", \"COLONAGETC_A\", \"CERVIAGETC_A\", \"BREASAGETC_A\", \n  .     \"BRAINAGETC_A\", \"BONEAGETC_A\", \"BLOODAGETC_A\", \"BLADDAGETC_A\", \n  .     \"OTHERCANP_A\", \"COLRCCAN_A\", \"HDNCKCAN_A\", \"UTERUCAN_A\", \n  .     \"THYROCAN_A\", \"THROACAN_A\", \"STOMACAN_A\", \"SKNDKCAN_A\", \"SKNNMCAN_A\", \n  .     \"SKNMCAN_A\", \"RECTUCAN_A\", \"PROSTCAN_A\", \"PANCRCAN_A\", \"OVARYCAN_A\", \n  .     \"MOUTHCAN_A\", \"MELANCAN_A\", \"LYMPHCAN_A\", \"LUNGCAN_A\", \"LIVERCAN_A\", \n  .     \"LEUKECAN_A\", \"LARYNCAN_A\", \"GALLBCAN_A\", \"ESOPHCAN_A\", \"COLONCAN_A\", \n  .     \"CERVICAN_A\", \"BREASCAN_A\", \"BRAINCAN_A\", \"BONECAN_A\", \"BLOODCAN_A\", \n  .     \"BLADDCAN_A\", \"HISDETP_A\", \"HISP_A\", \"REGION\", \"INTV_QRT\", \n  .     \"SRVY_YR\", \"SEX_A\", \"AGEP_A\", \"AGE65\", \"ASTATNEW\", \"MENTHOLC_A\", \n  .     \"CEVOTELC_A\", \"CEMMETNG_A\", \"TRANSPOR_A\", \"HOUSECOST_A\", \n  .     \"HOUGVASST_A\", \"HOUTENURE_A\", \"HOUYRSLIV_A\", \"FDSNEDAYS_A\", \n  .     \"FDSNOTEAT_A\", \"FDSWEIGHT_A\", \"FDSHUNGRY_A\", \"FDSLESS_A\", \n  .     \"FDSSKIPDYS_A\", \"FDSSKIP_A\", \"FDSBALANCE_A\", \"FDSLAST_A\", \n  .     \"FDSRUNOUT_A\", \"FLUNCH12M1_A\", \"FWIC12M_A\", \"FSNAP30D_A\", \n  .     \"FSNAP12M_A\", \"INCOTHR_A\", \"INCRETIRE_A\", \"INCWELF_A\", \"SSISSDIDSB_A\", \n  .     \"SSISSDIBTH_A\", \"INCSSISSDI_A\", \"INCSSRR_A\", \"INCINTER_A\", \n  .     \"INCWRKO_A\", \"CEVOLUN2_A\", \"CEVOLUN1_A\", \"EMDWRKCAT1_A\", \n  .     \"EMDSUPER_A\", \"EMPHEALINS_A\", \"EMPSICKLV_A\", \"EMPWHENWRK_A\", \n  .     \"EMPWHYNOT_A\", \"EMPNOWRK_A\", \"EMPLASTWK_A\", \"SCHCURENR_A\", \n  .     \"NATUSBORN_A\", \"VACAREEV_A\", \"VAHOSP_A\", \"VADISB_A\", \"COMBAT_A\", \n  .     \"AFVETTRN_A\", \"AFVET_A\", \"EVRMARRIED_A\", \"SPOUSEP_A\", \"SPOUSLIV_A\", \n  .     \"MARITAL_A\", \"ORIENT_A\", \"HRJBEXPTB_A\", \"HRJBEXP4HR_A\", \"HRJBEXP12M_A\", \n  .     \"HRVLDPROT_A\", \"HRVLOUD12M_A\", \"HRFIREPROT_A\", \"HRFIRE12M_A\", \n  .     \"HRFIRETOTR_A\", \"HRFIREEV_A\", \"HRJOBPROT_A\", \"HRLOUDJB12M_A\", \n  .     \"HRLOUDJBYR_A\", \"HRLOUDJOB_A\", \"HRTINMEDSP_A\", \"HRTINPROB_A\", \n  .     \"HRTINLNG_A\", \"HRTINNITUS_A\", \"BFALLTIMES_A\", \"BFALL12M_A\", \n  .     \"BALDHP_A\", \"BALDPROB_A\", \"BALDIZZ_A\", \"HRAIDAQR_A\", \"HRTESTLAST_A\", \n  .     \"HRTEST_A\", \"CBALHDNO_A\", \"CBALHDINJ_A\", \"EARINFECT3_A\", \n  .     \"EARINFECT_A\", \"HRWHISP_A\", \"AHEARST1_A\", \"VIMDRIVE_A\", \"VIMREAD_A\", \n  .     \"AVISSADV_A\", \"AVISDEV_A\", \"AVISREH_A\", \"AVISEXAM_A\", \"SMOKELSCUR_A\", \n  .     \"SMOKELSEV_A\", \"PIPECUR_A\", \"PIPEEV_A\", \"CIGAR30D_A\", \"CIGARCUR_A\", \n  .     \"CIGAREV_A\", \"ECIGNOW_A\", \"ECIGEV_A\", \"CIG30D_A\", \"SMK30D_A\", \n  .     \"CIGNOW_A\", \"SMKNOW_A\", \"SMKEV_A\", \"ARTHPH_A\", \"ARTHWRK_A\", \n  .     \"ARTHLMT_A\", \"JNTPN_A\", \"JNTSYMP_A\", \"TBIEVAL_A\", \"TBILEAGUE_A\", \n  .     \"TBISPORT_A\", \"TBIHLSBMC_A\", \"TBILCDCMG_A\", \"INJREDUCE_A\", \n  .     \"INJSTOPCHG_A\", \"INJFUTWRK_A\", \"INJSTITCH_A\", \"INJBONES_A\", \n  .     \"INJHOSP_A\", \"INJER_A\", \"INJSAWDOC_A\", \"INJCHORES_A\", \"INJMVTYPE5_A\", \n  .     \"INJMVTYPE4_A\", \"INJMVTYPE3_A\", \"INJMVTYPE2_A\", \"INJMVTYPE1_A\", \n  .     \"INJMOTOR_A\", \"INJFALLWRK_A\", \"INJFALLHOM_A\", \"INJFALL_A\", \n  .     \"INJSPORTS_A\", \"INJWORK_A\", \"INJHOME_A\", \"INJLIMIT_A\", \"ANYINJURY_A\", \n  .     \"REPWRKCAUS_A\", \"REPREDUCE_A\", \"REPSTOPCHG_A\", \"REPFUTWRK_A\", \n  .     \"REPSAWDOC_A\", \"REPLIMIT_A\", \"REPSTRAIN_A\", \"PAITOOTH3M_A\", \n  .     \"PAIAPG3M_A\", \"PAIHDFC3M_A\", \"PAILLMB3M_A\", \"PAIULMB3M_A\", \n  .     \"PAIBACK3M_A\", \"PAIAFFM3M_A\", \"PAIWKLM3M_A\", \"PAIAMNT_A\", \n  .     \"PAIFRQ3M_A\", \"VIGIL4_A\", \"VIGIL3_A\", \"VIGIL2_A\", \"VIGIL1_A\", \n  .     \"DISCRIM5_A\", \"DISCRIM4_A\", \"DISCRIM3_A\", \"DISCRIM2_A\", \"DISCRIM1_A\", \n  .     \"PHQ44_A\", \"PHQ43_A\", \"PHQ42_A\", \"PHQ41_A\", \"MHTHND_A\", \"MHTHDLY_A\", \n  .     \"MHTPYNOW_A\", \"MHTHRPY_A\", \"MHRX_A\", \"DEPLEVEL_A\", \"DEPMED_A\", \n  .     \"DEPFREQ_A\", \"ANXLEVEL_A\", \"ANXMED_A\", \"ANXFREQ_A\", \"HOMEHC12M_A\", \n  .     \"THERA12M_A\", \"EYEEX12M_A\", \"TRAVEL_A\", \"WRKHLTHFC_A\", \"WORKHEALTH_A\", \n  .     \"LIVEHEP_A\", \"SHTHEPB1_A\", \"TDAPPREG_A\", \"SHINGRIXFS1_A\", \n  .     \"SHINGRIXN3_A\", \"SHINGRIX3_A\", \"SHINGWHEN1_A\", \"SHTSHINGL1_A\", \n  .     \"SHTPNEUNB_A\", \"SHTPNUEV_A\", \"SHOTTYPE2_A\", \"CVDVAC1Y1_A\", \n  .     \"CVDVAC1M1_A\", \"SHTCVD19NM1_A\", \"SHTCVD191_A\", \"FLUPREG2_A\", \n  .     \"FLUPREG_A\", \"SHTFLUY_A\", \"SHTFLUM_A\", \"SHTFLU12M_A\", \"LIVEBIRTH_A\", \n  .     \"PREGFLUYR_A\", \"FHCANRISK_A\", \"FHOVCANNUM_A\", \"FHOVCANEV_A\", \n  .     \"FHBCAN50_A\", \"FHBCANNUM_A\", \"FHBCANEV_A\", \"FHCANEV_A\", \"GTGRISK_A\", \n  .     \"GTPOSS1_A\", \"MRIREA_A\", \"MRIWHEN_A\", \"MRIHAD_A\", \"MAMNOT1_A\", \n  .     \"MAMREASON_A\", \"MAMWHEN_A\", \"MAMEV_A\", \"HYSTEV2_A\", \"CERVICWHEN_A\", \n  .     \"CERVICEV1_A\", \"PSA5YR1_A\", \"PSAREASON_A\", \"PSAWHEN_A\", \"PSATEST_A\", \n  .     \"COLTEST6_A\", \"COLTEST5_A\", \"COLTEST4_A\", \"COLTEST3_A\", \"COLTEST2_A\", \n  .     \"COLTEST1_A\", \"COLPROB1_A\", \"CGUARDWHE1_A\", \"FITCOLG1_A\", \n  .     \"COLOGUARD1_A\", \"FITHWHEN1_A\", \"FITHEV1_A\", \"CTCOLWHEN1_A\", \n  .     \"CTCOLEV1_A\", \"SIGWHEN_A\", \"COLSIGWHEN_A\", \"COLREASON1_A\", \n  .     \"COLWHEN_A\", \"COLORECTYP_A\", \"COLORECTEV_A\", \"DIBA1CLAST_A\", \n  .     \"DIBLAST1_A\", \"CHOLLAST_A\", \"BPLAST_A\", \"RXDG12M_A\", \"RXDL12M_A\", \n  .     \"RXLS12M_A\", \"RXSK12M_A\", \"RX12M_A\", \"HITTEST_A\", \"HITCOMM_A\", \n  .     \"HITLOOK_A\", \"ACCSSHOM_A\", \"ACCSSINT_A\", \"VIRAPP12M_A\", \"MEDNG12M_A\", \n  .     \"MEDDL12M_A\", \"HOSPONGT_A\", \"USPLKIND_A\", \"USUALPL_A\", \"WELLVIS_A\", \n  .     \"WELLNESS_A\", \"LASTDR_A\", \"DENNG12M_A\", \"DENDL12M_A\", \"DENPREV_A\", \n  .     \"LCVDACT_A\", \"SYMPNOW1_A\", \"LONGCOVD1_A\", \"EVERCOVD_A\", \"PAYWORRY_A\", \n  .     \"PAYNOBLLNW_A\", \"PAYBLL12M_A\", \"HINOTMYR_A\", \"HINOTYR_A\", \n  .     \"RSNHIOTH_A\", \"RSNHIWAIT_A\", \"RSNHIMEET_A\", \"RSNHICONF_A\", \n  .     \"RSNHIELIG_A\", \"RSNHIWANT_A\", \"RSNHICOST_A\", \"HISTOPELIG_A\", \n  .     \"HISTOPCOST_A\", \"HISTOPAGE_A\", \"HISTOPMISS_A\", \"HISTOPJOB_A\", \n  .     \"HILASTMY_A\", \"HILAST_A\", \"MILSPC3_A\", \"MILSPC2_A\", \"MILSPC1_A\", \n  .     \"OGHDHP_A\", \"OGDEDUC_A\", \"OGPREM_A\", \"OGXCHNG_A\", \"OPHDHP_A\", \n  .     \"OPDEDUC_A\", \"OPPREM_A\", \"OPXCHNG_A\", \"CHHDHP_A\", \"CHDEDUC_A\", \n  .     \"CHPREM_A\", \"CHXCHNG_A\", \"PRVSCOV2_A\", \"PRVSCOV1_A\", \"PRDNCOV2_A\", \n  .     \"PRDNCOV1_A\", \"PRRXCOV2_A\", \"PRRXCOV1_A\", \"HSAHRA2_A\", \"HSAHRA1_A\", \n  .     \"PRHDHP2_A\", \"PRHDHP1_A\", \"PRDEDUC2_A\", \"PRDEDUC1_A\", \"PLN2PAY6_A\", \n  .     \"PLN2PAY5_A\", \"PLN2PAY4_A\", \"PLN2PAY3_A\", \"PLN2PAY2_A\", \"PLN2PAY1_A\", \n  .     \"PLN1PAY6_A\", \"PLN1PAY5_A\", \"PLN1PAY4_A\", \"PLN1PAY3_A\", \"PLN1PAY2_A\", \n  .     \"PLN1PAY1_A\", \"PLNEXCHG2_A\", \"PLNEXCHG1_A\", \"PRPOLH2_A\", \n  .     \"PRPOLH1_A\", \"PRPLCOV2_A\", \"PRPLCOV1_A\", \"POLHLD2_A\", \"POLHLD1_A\", \n  .     \"MAHDHP_A\", \"MADEDUC_A\", \"MAPREM_A\", \"MAXCHNG_A\", \"MCPARTD_A\", \n  .     \"MCVSCOV_A\", \"MCDNCOV_A\", \"MCHMO_A\", \"MCCHOICE_A\", \"MCPART_A\", \n  .     \"SINCOVRX_A\", \"SINCOVVS_A\", \"SINCOVDE_A\", \"MCAIDPRB_A\", \"MCAREPRB_A\", \n  .     \"HIKIND10_A\", \"HIKIND09_A\", \"HIKIND08_A\", \"HIKIND07_A\", \"HIKIND06_A\", \n  .     \"HIKIND05_A\", \"HIKIND04_A\", \"HIKIND03_A\", \"HIKIND02_A\", \"HIKIND01_A\", \n  .     \"HICOV_A\", \"DEVDONSET_A\", \"SOCWRKLIM_A\", \"SOCSCLPAR_A\", \"SOCERRNDS_A\", \n  .     \"UPPOBJCT_A\", \"UPPRAISE_A\", \"UPPSLFCR_A\", \"COGAMTDFF_A\", \n  .     \"COGFRQDFF_A\", \"COGTYPEDFF_A\", \"COGMEMDFF_A\", \"COMDIFF_A\", \n  .     \"EQSTEPS_A\", \"EQWLK13M_A\", \"EQWLK100_A\", \"NOEQSTEPS_A\", \"NOEQWLK13M_A\", \n  .     \"NOEQWLK100_A\", \"PERASST_A\", \"WCHAIR_A\", \"CANEWLKR_A\", \"STEPS_A\", \n  .     \"WLK13M_A\", \"WLK100_A\", \"EQUIP_A\", \"DIFF_A\", \"HEARINGDF_A\", \n  .     \"HEARAIDFR_A\", \"HEARAID_A\", \"VISIONDF_A\", \"WEARGLSS_A\", \"PREGNOW_A\", \n  .     \"VIMLSCA_A\", \"VIMCAEV_A\", \"VIMCSURG_A\", \"VIMLSMD_A\", \"VIMMDEV_A\", \n  .     \"VIMLSGL_A\", \"VIMGLEV_A\", \"VIMLSDR_A\", \"VIMDREV_A\", \"EPIDR_A\", \n  .     \"EPIMED_A\", \"EPIEV_A\", \"HLTHCOND_A\", \"MEDRXTRT_A\", \"CFSNOW_A\", \n  .     \"CFSEV_A\", \"PSOREV_A\", \"ULCCOLEV_A\", \"CROHNSEV_A\", \"HEPEV_A\", \n  .     \"DEPEV_A\", \"ANXEV_A\", \"DEMENEV_A\", \"ARTHEV_A\", \"COPDEV_A\", \n  .     \"DIBTYPE_A\", \"DIBINSSTYR_A\", \"DIBINSSTOP_A\", \"DIBINSTIME_A\", \n  .     \"DIBINS_A\", \"DIBPILL_A\", \"DIBEV_A\", \"GESDIB_A\", \"PREDIB_A\", \n  .     \"CANEV_A\", \"ASER12M_A\", \"ASAT12M_A\", \"ASTILL_A\", \"ASEV_A\", \n  .     \"ASPONOWN_A\", \"ASPMEDSTP_A\", \"ASPMEDNOWN_A\", \"ASPMEDEV_A\", \n  .     \"STREV_A\", \"MIEV_A\", \"ANGEV_A\", \"CHDEV_A\", \"CHLMED_A\", \"CHL12M_A\", \n  .     \"CHLEV_A\", \"HYPMED_A\", \"HYP12M_A\", \"HYPDIF_A\", \"HYPEV_A\", \n  .     \"LSATIS4_A\", \"PHSTAT_A\", \"PROXYREL_A\", \"PROXY_A\", \"AVAIL_A\", \n  .     \"HHSTAT_A\", \"INTV_MON\", \"RECTYPE\", \"IMPNUM_A\", \"WTFA_A\", \n  .     \"HHX\", \"POVRATTC_A\"), subscript_action = NULL, subscript_arg = \"hhx\", \n  .     rlang = list(inherit = TRUE), call = select(., hhx, urbrrl)), class = c(\"vctrs_error_subscript_oob\", \n  . \"vctrs_error_subscript\", \"rlang_error\", \"error\", \"condition\")))",
            "26. cnd_signal(cnd)",
            "27. signal_abort(cnd)",
            "28. signalCondition(cnd)"
          ]
        }
      ]
    },
    {
      "source": [
        "install.packages(\"gtsummary\")\n"
      ],
      "cell_type": "code",
      "metadata": {
        "colab": {
          "base_uri": "https://localhost:8080/"
        },
        "id": "7gLGMKwTQS4V",
        "outputId": "58c603c8-22ca-424d-859f-a06a635f5577"
      },
      "execution_count": 7,
      "outputs": [
        {
          "output_type": "stream",
          "name": "stderr",
          "text": [
            "Installing package into ‘/usr/local/lib/R/site-library’\n",
            "(as ‘lib’ is unspecified)\n",
            "\n"
          ]
        }
      ]
    }
  ]
}